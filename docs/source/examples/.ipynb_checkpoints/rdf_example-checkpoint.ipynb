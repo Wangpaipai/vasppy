{
 "cells": [
  {
   "cell_type": "markdown",
   "metadata": {},
   "source": [
    "# Calculating radial distribution functions"
   ]
  },
  {
   "cell_type": "markdown",
   "metadata": {},
   "source": [
    "Radial distribution functions can be calculated from one or more `pymatgen` `Structure` objects by using the `vasppy.rdf.RadialDistributionFunction` class. "
   ]
  },
  {
   "cell_type": "code",
   "execution_count": 1,
   "metadata": {},
   "outputs": [
    {
     "data": {
      "text/plain": [
       "Lattice\n",
       "    abc : 5.6402 5.6402 5.6402\n",
       " angles : 90.0 90.0 90.0\n",
       " volume : 179.42523043680802\n",
       "      A : 5.6402 0.0 3.453626438275451e-16\n",
       "      B : -3.453626438275451e-16 5.6402 3.453626438275451e-16\n",
       "      C : 0.0 0.0 5.6402"
      ]
     },
     "execution_count": 1,
     "metadata": {},
     "output_type": "execute_result"
    }
   ],
   "source": [
    "# Create a pymatgen Structure for NaCl\n",
    "from pymatgen import Structure, Lattice\n",
    "\n",
    "# Create a pymatgen Structure for NaCl\n",
    "from pymatgen import Structure, Lattice\n",
    "\n",
    "a = 5.6402 # NaCl lattice parameter\n",
    "lattice = Lattice.from_parameters(a, a, a, 90.0, 90.0, 90.0)\n",
    "lattice"
   ]
  },
  {
   "cell_type": "code",
   "execution_count": 2,
   "metadata": {},
   "outputs": [
    {
     "data": {
      "text/plain": [
       "Structure Summary\n",
       "Lattice\n",
       "    abc : 5.6402 5.6402 5.6402\n",
       " angles : 90.0 90.0 90.0\n",
       " volume : 179.42523043680802\n",
       "      A : 5.6402 0.0 3.453626438275451e-16\n",
       "      B : -3.453626438275451e-16 5.6402 3.453626438275451e-16\n",
       "      C : 0.0 0.0 5.6402\n",
       "PeriodicSite: Na (0.0000, 0.0000, 0.0000) [0.0000, 0.0000, 0.0000]\n",
       "PeriodicSite: Na (-0.0000, 2.8201, 2.8201) [0.0000, 0.5000, 0.5000]\n",
       "PeriodicSite: Na (2.8201, 0.0000, 2.8201) [0.5000, 0.0000, 0.5000]\n",
       "PeriodicSite: Na (2.8201, 2.8201, 0.0000) [0.5000, 0.5000, 0.0000]\n",
       "PeriodicSite: Cl (2.8201, 0.0000, 0.0000) [0.5000, 0.0000, 0.0000]\n",
       "PeriodicSite: Cl (-0.0000, 2.8201, 0.0000) [0.0000, 0.5000, 0.0000]\n",
       "PeriodicSite: Cl (0.0000, 0.0000, 2.8201) [0.0000, 0.0000, 0.5000]\n",
       "PeriodicSite: Cl (2.8201, 2.8201, 2.8201) [0.5000, 0.5000, 0.5000]"
      ]
     },
     "execution_count": 2,
     "metadata": {},
     "output_type": "execute_result"
    }
   ],
   "source": [
    "structure = Structure.from_spacegroup(sg='Fm-3m', lattice=lattice,\n",
    "                          species=['Na', 'Cl'],\n",
    "                          coords=[[0,0,0], [0.5, 0, 0]])\n",
    "structure"
   ]
  },
  {
   "cell_type": "code",
   "execution_count": 3,
   "metadata": {},
   "outputs": [],
   "source": [
    "from vasppy.rdf import RadialDistributionFunction"
   ]
  },
  {
   "cell_type": "markdown",
   "metadata": {},
   "source": [
    "The default required arguments for creating a `RadialDistributionFunction` object are a list of `pymatgen` `Structure` objects, and the numerical indices of the atoms (or `Site` objects) that we want to compute the rdf between."
   ]
  },
  {
   "cell_type": "code",
   "execution_count": 4,
   "metadata": {},
   "outputs": [
    {
     "name": "stdout",
     "output_type": "stream",
     "text": [
      "[0, 1, 2, 3]\n",
      "[4, 5, 6, 7]\n"
     ]
    }
   ],
   "source": [
    "indices_na = [i for i, site in enumerate(structure) if site.species_string is 'Na']\n",
    "indices_cl = [i for i, site in enumerate(structure) if site.species_string is 'Cl']\n",
    "print(indices_na)\n",
    "print(indices_cl)"
   ]
  },
  {
   "cell_type": "code",
   "execution_count": 5,
   "metadata": {},
   "outputs": [],
   "source": [
    "rdf_nana = RadialDistributionFunction(structures=[structure], \n",
    "                                      indices_i=indices_na)\n",
    "rdf_clcl = RadialDistributionFunction(structures=[structure], \n",
    "                                      indices_i=indices_cl)"
   ]
  },
  {
   "cell_type": "markdown",
   "metadata": {},
   "source": [
    "To compute a rdf between different species, we need to pass both `indices_i` and `indices_j`."
   ]
  },
  {
   "cell_type": "code",
   "execution_count": 6,
   "metadata": {},
   "outputs": [],
   "source": [
    "rdf_nacl = RadialDistributionFunction(structures=[structure], \n",
    "                                      indices_i=indices_na, indices_j=indices_cl)"
   ]
  },
  {
   "cell_type": "code",
   "execution_count": 9,
   "metadata": {},
   "outputs": [
    {
     "data": {
      "image/png": "[encoded data removed]",
      "text/plain": [
       "<Figure size 432x288 with 1 Axes>"
      ]
     },
     "metadata": {
      "needs_background": "light"
     },
     "output_type": "display_data"
    }
   ],
   "source": [
    "import matplotlib.pyplot as plt\n",
    "\n",
    "plt.plot(rdf_nana.r, rdf_nana.rdf, label='Na-Na')\n",
    "plt.plot(rdf_clcl.r, rdf_clcl.rdf, label='Cl-Cl')\n",
    "plt.plot(rdf_nacl.r, rdf_nacl.rdf, label='Na-Cl')\n",
    "plt.legend()\n",
    "plt.show()"
   ]
  },
  {
   "cell_type": "markdown",
   "metadata": {},
   "source": [
    "The Na and Cl sublattices are equivalent, so the Na–Na and Cl–Cl rdfs sit on top of each other."
   ]
  },
  {
   "cell_type": "markdown",
   "metadata": {},
   "source": [
    "A smeared rdf can be produced using the `smeared_rdf()` method, which applies a Gaussian kernel to the raw rdf data. The `smeared_rdf()` method takes on optional argument `sigma`, which can be used to set the width of the Gaussian (default = 0.1)"
   ]
  },
  {
   "cell_type": "code",
   "execution_count": 8,
   "metadata": {},
   "outputs": [
    {
     "data": {
      "image/png": "[encoded data removed]",
      "text/plain": [
       "<Figure size 432x288 with 1 Axes>"
      ]
     },
     "metadata": {
      "needs_background": "light"
     },
     "output_type": "display_data"
    }
   ],
   "source": [
    "plt.plot(rdf_nana.r, rdf_nana.smeared_rdf(), label='Na-Na') # default smearing of 0.1\n",
    "plt.plot(rdf_clcl.r, rdf_clcl.smeared_rdf(sigma=0.050), label='Cl-Cl')\n",
    "plt.plot(rdf_nacl.r, rdf_nacl.smeared_rdf(sigma=0.2), label='Na-Cl')\n",
    "plt.legend()\n",
    "plt.show()"
   ]
  }
 ],
 "metadata": {
  "kernelspec": {
   "display_name": "Python 3",
   "language": "python",
   "name": "python3"
  },
  "language_info": {
   "codemirror_mode": {
    "name": "ipython",
    "version": 3
   },
   "file_extension": ".py",
   "mimetype": "text/x-python",
   "name": "python",
   "nbconvert_exporter": "python",
   "pygments_lexer": "ipython3",
   "version": "3.7.0"
  }
 },
 "nbformat": 4,
 "nbformat_minor": 2
}
